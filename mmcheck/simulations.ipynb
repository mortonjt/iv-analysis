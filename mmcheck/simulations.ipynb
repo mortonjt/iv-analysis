{
 "cells": [
  {
   "cell_type": "code",
   "execution_count": 1,
   "id": "acfc2ca7",
   "metadata": {},
   "outputs": [],
   "source": [
    "import pandas as pd\n",
    "import numpy as np\n",
    "import matplotlib.pyplot as plt\n",
    "import seaborn as sns\n",
    "%matplotlib inline"
   ]
  },
  {
   "cell_type": "code",
   "execution_count": 2,
   "id": "2b3ba0f1",
   "metadata": {},
   "outputs": [
    {
     "data": {
      "text/plain": [
       "{('Z', 'X'): Text(0.5, 0.0, 'beta'),\n",
       " ('Q', 'X'): Text(1.25, 0.5, 'gam'),\n",
       " ('Q', 'Y'): Text(1.75, 0.5, 'eta'),\n",
       " ('X', 'Y'): Text(1.5, 0.0, 'alpha')}"
      ]
     },
     "execution_count": 2,
     "metadata": {},
     "output_type": "execute_result"
    },
    {
     "data": {
      "image/png": "[encoded data removed]",
      "text/plain": [
       "<Figure size 432x288 with 1 Axes>"
      ]
     },
     "metadata": {},
     "output_type": "display_data"
    }
   ],
   "source": [
    "import networkx as nx\n",
    "\n",
    "G = nx.DiGraph()\n",
    "G.graph['dpi'] = 120\n",
    "G.add_nodes_from(['Z', 'X', 'Q', 'Y'])\n",
    "G.add_edges_from([('Z', 'X'), ('Q', 'X'), ('Q', 'Y'), ('X', 'Y')])\n",
    "pos = {'Z': [0, 0], 'X': [1, 0], 'Y': [2, 0], 'Q': [1.5, 1]}\n",
    "\n",
    "edge_labels = {('Z', 'X'): 'beta', \n",
    "               ('Q', 'X'): 'gam', \n",
    "               ('Q', 'Y'): 'eta', \n",
    "               ('X', 'Y'): 'alpha'}\n",
    "nx.draw_networkx(G, pos)\n",
    "nx.draw_networkx_edge_labels(G,pos,edge_labels=edge_labels)"
   ]
  },
  {
   "cell_type": "code",
   "execution_count": 3,
   "id": "e0d5df66",
   "metadata": {},
   "outputs": [],
   "source": [
    "state = np.random.RandomState(0)\n",
    "\n",
    "k = 3    # number of latent dimensions\n",
    "n = 200  # number of samples\n",
    "d = 100  # number of microbes\n",
    "m = 20   # number of instruments\n",
    "c = 3    # number of confounders\n",
    "\n",
    "# mediators\n",
    "Z = state.normal(0, 5, (n, m))\n",
    "# betaU = state.normal(0, 1, (m, k))\n",
    "from scipy.stats import ortho_group\n",
    "betaU = ortho_group.rvs(m)[:,range(k)]\n",
    "# betaU[np.abs(betaU) < np.quantile(np.abs(betaU), 0.6)] = 0\n",
    "# betaV = state.normal(0, 1, (k, d))\n",
    "betaV = ortho_group.rvs(d)[:,range(k)]\n",
    "betaV = betaV.transpose()\n",
    "# betaV[np.abs(betaV) < np.quantile(np.abs(betaV), 0.8)] = 0\n",
    "beta = betaU @ betaV\n",
    "U = Z @ betaU\n",
    "\n",
    "# confounder\n",
    "Q = state.normal(0, 3, (n, c))\n",
    "gam = state.normal(0, 1, (c, d))\n",
    "eta = state.normal(0, 1, (c, 1))\n",
    "\n",
    "# outcomes\n",
    "alpha = state.normal(0, 1, (k, 1))\n",
    "\n",
    "# noise\n",
    "eps = state.normal(0, 1, (n, d))\n",
    "delta = state.normal(0, 1, (n, 1))\n",
    "\n",
    "# structural equation models\n",
    "X = Z @ beta + Q @ gam + eps\n",
    "Y = U @ alpha + Q @ eta + delta\n",
    "\n",
    "# betaU \n",
    "\n",
    "# betaV"
   ]
  },
  {
   "cell_type": "markdown",
   "id": "e3dd7869",
   "metadata": {},
   "source": [
    "# Simulation 1 : Test the importance of including instrumental variables "
   ]
  },
  {
   "cell_type": "code",
   "execution_count": 4,
   "id": "aad287b8",
   "metadata": {},
   "outputs": [],
   "source": [
    "np.savetxt('sim_data/Q.csv', Q, delimiter=',')\n",
    "np.savetxt('sim_data/Z.csv', Z, delimiter=',')\n",
    "np.savetxt('sim_data/X.csv', X, delimiter=',')\n",
    "np.savetxt('sim_data/Y.csv', Y, delimiter=',')\n",
    "np.savetxt('sim_data/beta.csv', beta, delimiter=',')\n",
    "np.savetxt('sim_data/betaU.csv', betaU, delimiter=',')\n",
    "np.savetxt('sim_data/betaV.csv', betaV, delimiter=',')\n",
    "np.savetxt('sim_data/alpha.csv', alpha, delimiter=',')\n",
    "np.savetxt('sim_data/gam.csv', gam, delimiter=',')\n",
    "np.savetxt('sim_data/eta.csv', eta, delimiter=',')"
   ]
  },
  {
   "cell_type": "markdown",
   "id": "3e006d37",
   "metadata": {},
   "source": [
    "# Simulation 2 : Test the importance of measuring multiple omics to satisfy the instrumental variables assumption"
   ]
  },
  {
   "cell_type": "code",
   "execution_count": 5,
   "id": "ef1a064a",
   "metadata": {},
   "outputs": [],
   "source": [
    "X1 = X[:, :50]\n",
    "X2 = X[:, 50:]\n",
    "np.savetxt('sim_data/X1.csv', X1, delimiter=',')\n",
    "np.savetxt('sim_data/X2.csv', X2, delimiter=',')"
   ]
  },
  {
   "cell_type": "code",
   "execution_count": null,
   "id": "31a64d0b",
   "metadata": {},
   "outputs": [],
   "source": [
    "\n",
    "\n"
   ]
  },
  {
   "cell_type": "code",
   "execution_count": null,
   "id": "00fbfb5a",
   "metadata": {},
   "outputs": [],
   "source": []
  }
 ],
 "metadata": {
  "kernelspec": {
   "display_name": "Python 3 (ipykernel)",
   "language": "python",
   "name": "python3"
  },
  "language_info": {
   "codemirror_mode": {
    "name": "ipython",
    "version": 3
   },
   "file_extension": ".py",
   "mimetype": "text/x-python",
   "name": "python",
   "nbconvert_exporter": "python",
   "pygments_lexer": "ipython3",
   "version": "3.9.7"
  }
 },
 "nbformat": 4,
 "nbformat_minor": 5
}
