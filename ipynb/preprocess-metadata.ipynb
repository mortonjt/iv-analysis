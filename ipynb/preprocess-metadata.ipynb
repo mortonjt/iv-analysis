{
 "cells": [
  {
   "cell_type": "code",
   "execution_count": 1,
   "id": "a250eccb",
   "metadata": {},
   "outputs": [],
   "source": [
    "import pandas as pd\n",
    "import matplotlib.pyplot as plt\n",
    "%matplotlib inline"
   ]
  },
  {
   "cell_type": "code",
   "execution_count": 3,
   "id": "7f147069",
   "metadata": {},
   "outputs": [],
   "source": [
    "md = pd.read_table('../data/sample_information_from_prep_2458.tsv', index_col=0)"
   ]
  },
  {
   "cell_type": "markdown",
   "id": "b8180405",
   "metadata": {},
   "source": [
    "Parse out instrumental variables"
   ]
  },
  {
   "cell_type": "code",
   "execution_count": 36,
   "id": "958321db",
   "metadata": {},
   "outputs": [],
   "source": [
    "def mice_group_f(x):\n",
    "    tabs = ' '.join(x.split('(')[:-1])\n",
    "    tabs = tabs.split('-')\n",
    "    tabs = tabs[1:] \n",
    "    if 'In' in tabs:\n",
    "        tabs = list(set(tabs) - {'In'})\n",
    "    return list(map(lambda x: x.strip(), tabs))\n",
    "instruments = md['mice_group'].apply(mice_group_f)\n",
    "all_instruments = list(set(sum(list(instruments.values), [])))"
   ]
  },
  {
   "cell_type": "code",
   "execution_count": 37,
   "id": "0fdd6456",
   "metadata": {},
   "outputs": [],
   "source": [
    "def mice_instrument_f(x):\n",
    "    tab = [False] * len(all_instruments)\n",
    "    for i, y in enumerate(all_instruments):\n",
    "        tab[i] = (y in x)\n",
    "    return tab\n",
    "\n",
    "instrument_md = pd.DataFrame(list(md['mice_group'].apply(mice_instrument_f).values),\n",
    "                             columns=all_instruments,\n",
    "                             index=md.index)"
   ]
  },
  {
   "cell_type": "code",
   "execution_count": 50,
   "id": "d734cb01",
   "metadata": {},
   "outputs": [],
   "source": [
    "instrument_md.to_csv('../data/instrument.txt', sep='\\t')"
   ]
  },
  {
   "cell_type": "code",
   "execution_count": 46,
   "id": "c2abb7d7",
   "metadata": {},
   "outputs": [],
   "source": [
    "cols = ['NASH',\n",
    "        'HCC',\n",
    "        'obes',\n",
    "        'adenomas',\n",
    "        'T1d']\n",
    "def phenotype_f(x):\n",
    "    tabs = len(cols) * [False]\n",
    "    for i, c in enumerate(cols):\n",
    "        if c in x:\n",
    "            tabs[i] = True\n",
    "    return tabs\n",
    "\n",
    "phenotype_md = pd.DataFrame(list(md['phenotype'].apply(phenotype_f).values),\n",
    "                            index=md.index, columns=cols)\n",
    "phenotype_md = phenotype_md.rename({'obes': 'obesity'})"
   ]
  },
  {
   "cell_type": "code",
   "execution_count": 49,
   "id": "a59764e5",
   "metadata": {},
   "outputs": [],
   "source": [
    "phenotype_md.to_csv('../data/phenotype.txt', sep='\\t')"
   ]
  },
  {
   "cell_type": "code",
   "execution_count": null,
   "id": "e523cdb8",
   "metadata": {},
   "outputs": [],
   "source": []
  }
 ],
 "metadata": {
  "kernelspec": {
   "display_name": "Python 3 (ipykernel)",
   "language": "python",
   "name": "python3"
  },
  "language_info": {
   "codemirror_mode": {
    "name": "ipython",
    "version": 3
   },
   "file_extension": ".py",
   "mimetype": "text/x-python",
   "name": "python",
   "nbconvert_exporter": "python",
   "pygments_lexer": "ipython3",
   "version": "3.10.4"
  }
 },
 "nbformat": 4,
 "nbformat_minor": 5
}
