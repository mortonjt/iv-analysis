{
 "cells": [
  {
   "cell_type": "code",
   "execution_count": 1,
   "id": "edb7fed2",
   "metadata": {},
   "outputs": [],
   "source": [
    "import biom\n",
    "from gneiss.balances import sparse_balance_basis\n",
    "import numpy as np\n",
    "import pandas as pd\n",
    "from bp import parse_newick, to_skbio_treenode"
   ]
  },
  {
   "cell_type": "code",
   "execution_count": 2,
   "id": "7aef958c",
   "metadata": {},
   "outputs": [],
   "source": [
    "micro_table = biom.load_table('../data/hcc-data/46119_otu_table.biom').to_dataframe().T\n",
    "metab_table = biom.load_table('../data/hcc-data/metabolites.biom').to_dataframe().T\n",
    "metadata = pd.read_table('../data/sample_information_from_prep_2458.tsv', index_col=0)\n",
    "\n",
    "metabolite_md = pd.read_table('../data/hcc-data/metabolite_feature_metadata.txt', index_col=0)"
   ]
  },
  {
   "cell_type": "code",
   "execution_count": 3,
   "id": "6847db80",
   "metadata": {},
   "outputs": [],
   "source": [
    "metadata = metadata.reset_index().set_index('host_subject_id')\n",
    "metadata = metadata.loc[metab_table.index]\n",
    "micro_table = micro_table.loc[metadata['sample_id'].values]\n",
    "micro_table.index = metadata.index\n",
    "metab_table = metab_table.loc[metadata.index]\n",
    "\n",
    "# drop infrequent taxa\n",
    "micro_table = micro_table.loc[:, (micro_table > 0).sum(axis=0) >= 10]"
   ]
  },
  {
   "cell_type": "code",
   "execution_count": 4,
   "id": "c77ee7ec",
   "metadata": {},
   "outputs": [],
   "source": [
    "# phylogenetic tree for microbes\n",
    "gg_dir='/Users/mortonjt/Documents/research/databases/gg/gg_13_5_otus/trees'\n",
    "bp_tree = parse_newick(open(f'{gg_dir}/97_otus.tree').read())\n",
    "bp_tree2 = bp_tree.shear(set(micro_table.columns))\n",
    "sktree = to_skbio_treenode(bp_tree2)\n",
    "sktree.prune()\n",
    "\n",
    "# rename internal nodes\n",
    "i = 0\n",
    "for n in sktree.levelorder():\n",
    "    if n.name is None:\n",
    "        n.name = f'clade{i}'\n",
    "        i += 1"
   ]
  },
  {
   "cell_type": "code",
   "execution_count": 5,
   "id": "9a2ddeb5",
   "metadata": {},
   "outputs": [],
   "source": [
    "common_ids = list(set(metab_table.columns) & set(metabolite_md.index))\n",
    "metab_table = metab_table[common_ids]\n",
    "metabolite_md = metabolite_md.loc[common_ids]"
   ]
  },
  {
   "cell_type": "code",
   "execution_count": 6,
   "id": "3e48f9c4",
   "metadata": {},
   "outputs": [],
   "source": [
    "metabolite_md['mz'] = list(map(lambda x: float(x.split('_')[0]), metabolite_md.index))"
   ]
  },
  {
   "cell_type": "code",
   "execution_count": 7,
   "id": "6957dfde",
   "metadata": {},
   "outputs": [],
   "source": [
    "from scipy.spatial.distance import pdist, squareform\n",
    "from scipy.cluster.hierarchy import linkage\n",
    "from skbio import TreeNode\n",
    "from gneiss.util import rename_internal_nodes, match_tips\n",
    "\n",
    "dm = pdist(metabolite_md['mz'].values.reshape(-1, 1))\n",
    "lm = linkage(dm, 'average')\n",
    "met_tree = TreeNode.from_linkage_matrix(lm, metabolite_md.index)\n",
    "met_tree = rename_internal_nodes(met_tree)"
   ]
  },
  {
   "cell_type": "code",
   "execution_count": 8,
   "id": "816397e8",
   "metadata": {},
   "outputs": [],
   "source": [
    "micro_table, sktree = match_tips(micro_table, sktree)\n",
    "metab_table, met_tree = match_tips(metab_table, met_tree)"
   ]
  },
  {
   "cell_type": "markdown",
   "id": "1ec174ba",
   "metadata": {},
   "source": [
    "Combine trees"
   ]
  },
  {
   "cell_type": "code",
   "execution_count": 9,
   "id": "432957c3",
   "metadata": {},
   "outputs": [],
   "source": [
    "combined_tree = TreeNode()\n",
    "combined_tree.append(sktree)\n",
    "combined_tree.append(met_tree)\n",
    "combined_tree.name = 'Head'\n",
    "combined_table = pd.concat((micro_table, metab_table), axis=1)"
   ]
  },
  {
   "cell_type": "code",
   "execution_count": 26,
   "id": "b8f213a3",
   "metadata": {},
   "outputs": [],
   "source": [
    "from gneiss.balances import sparse_balance_basis\n",
    "Psi, nodes = sparse_balance_basis(combined_tree)"
   ]
  },
  {
   "cell_type": "code",
   "execution_count": 29,
   "id": "0087023e",
   "metadata": {},
   "outputs": [
    {
     "data": {
      "text/plain": [
       "((438, 13364), (13363, 13364))"
      ]
     },
     "execution_count": 29,
     "metadata": {},
     "output_type": "execute_result"
    }
   ],
   "source": [
    "combined_table.shape, Psi.shape"
   ]
  },
  {
   "cell_type": "code",
   "execution_count": 32,
   "id": "67535c98",
   "metadata": {},
   "outputs": [],
   "source": [
    "combined_ilr = pd.DataFrame(combined_table.values @ Psi.T,\n",
    "                            index=combined_table.index,\n",
    "                            columns=nodes)"
   ]
  },
  {
   "cell_type": "code",
   "execution_count": 35,
   "id": "21df17d7",
   "metadata": {},
   "outputs": [],
   "source": [
    "combined_ilr.to_csv('../data/combined/balances.csv')\n",
    "combined_tree.write('../data/combined/tree.nwk')\n",
    "metadata.to_csv('../data/combined/metadata.csv')"
   ]
  }
 ],
 "metadata": {
  "kernelspec": {
   "display_name": "Python 3 (ipykernel)",
   "language": "python",
   "name": "python3"
  },
  "language_info": {
   "codemirror_mode": {
    "name": "ipython",
    "version": 3
   },
   "file_extension": ".py",
   "mimetype": "text/x-python",
   "name": "python",
   "nbconvert_exporter": "python",
   "pygments_lexer": "ipython3",
   "version": "3.10.4"
  }
 },
 "nbformat": 4,
 "nbformat_minor": 5
}
