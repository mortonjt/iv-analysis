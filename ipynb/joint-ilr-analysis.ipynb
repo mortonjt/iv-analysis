{
 "cells": [
  {
   "cell_type": "code",
   "execution_count": 40,
   "id": "ec966b47",
   "metadata": {},
   "outputs": [],
   "source": [
    "import biom\n",
    "import skbio\n",
    "import pandas as pd\n",
    "import numpy as np\n",
    "import seaborn as sns\n",
    "import matplotlib.pyplot as plt\n",
    "from bp import parse_newick, to_skbio_treenode\n",
    "from gneiss.util import NUMERATOR, DENOMINATOR\n",
    "from sklearn.metrics import roc_auc_score\n",
    "%matplotlib inline"
   ]
  },
  {
   "cell_type": "markdown",
   "id": "ede9113e",
   "metadata": {},
   "source": [
    "Joint microbe / metabolite analysis"
   ]
  },
  {
   "cell_type": "code",
   "execution_count": 107,
   "id": "d383d3fc",
   "metadata": {},
   "outputs": [
    {
     "name": "stderr",
     "output_type": "stream",
     "text": [
      "/var/folders/w2/6wc3tcs56jl0x12ct8r03pf5h8vjhg/T/ipykernel_77742/99574601.py:23: FutureWarning: Passing a set as an indexer is deprecated and will raise in a future version. Use a list instead.\n",
      "  microbeV2 = mmV.loc[micro_nodes]\n",
      "/var/folders/w2/6wc3tcs56jl0x12ct8r03pf5h8vjhg/T/ipykernel_77742/99574601.py:24: FutureWarning: Passing a set as an indexer is deprecated and will raise in a future version. Use a list instead.\n",
      "  metaboliteV2 = mmV.loc[metab_nodes]\n"
     ]
    }
   ],
   "source": [
    "mmV = pd.read_excel('../results/microb_metabolites_analysis_ilr.xlsx', \n",
    "                    sheet_name='Figure VD', index_col=0)\n",
    "tree = to_skbio_treenode(parse_newick(open('../data/combined/tree.nwk').read()))\n",
    "\n",
    "taxonomy = pd.read_table(\n",
    "    '/Users/mortonjt/Documents/research/databases/gg/'\n",
    "    'gg_13_5_otus/taxonomy/97_otu_taxonomy.txt',\n",
    "    header=None, dtype=str\n",
    ").set_index(0)\n",
    "\n",
    "\n",
    "metabolite_fmd = pd.read_table('../data/hcc-data/metabolite_feature_metadata.txt',\n",
    "                               index_col=0)\n",
    "\n",
    "micro_tree = tree.children[0]\n",
    "metab_tree = tree.children[1]\n",
    "micro_nodes = [n.name for n in micro_tree.levelorder(include_self=True) if not n.is_tip()]\n",
    "metab_nodes = [n.name for n in metab_tree.levelorder(include_self=True) if not n.is_tip()]\n",
    "\n",
    "micro_nodes = set(micro_nodes) & set(mmV.index)\n",
    "metab_nodes = set(metab_nodes) & set(mmV.index)\n",
    "\n",
    "microbeV2 = mmV.loc[micro_nodes]\n",
    "metaboliteV2 = mmV.loc[metab_nodes]"
   ]
  },
  {
   "cell_type": "markdown",
   "id": "0f6fbb13",
   "metadata": {},
   "source": [
    "Microbial sample metadata"
   ]
  },
  {
   "cell_type": "code",
   "execution_count": 8,
   "id": "cea14698",
   "metadata": {},
   "outputs": [],
   "source": [
    "instruments = pd.read_table('../data/instrument.txt', index_col=0)\n",
    "phenotype = pd.read_table('../data/phenotype.txt', index_col=0)\n",
    "\n",
    "confounder = pd.read_csv('../data/cleaned-data/microbiome_confounder.csv', index_col=0)\n",
    "family = pd.read_csv('../data/cleaned-data/microbiome_family.csv', index_col=0)\n",
    "instrument = pd.read_csv('../data/cleaned-data/microbiome_instrume.csv', index_col=0)\n",
    "outcome = pd.read_csv('../data/cleaned-data/microbiome_outcome.csv', index_col=0)\n",
    "\n",
    "outcome.index = family.index # fingers crossed!\n",
    "instrument.index = family.index \n",
    "confounder.index = family.index \n",
    "\n",
    "microbe_md = pd.merge(outcome, confounder, left_index=True, right_index=True)\n",
    "microbe_md = pd.merge(microbe_md, instruments, left_index=True, right_index=True)\n",
    "\n",
    "otu_table = biom.load_table('../data/hcc-data/46119_otu_table.biom').to_dataframe().T\n",
    "taxonomy = taxonomy.loc[otu_table.columns]\n",
    "#otu_table.columns = list(map(lambda x: f'X{x}', otu_table.columns))\n",
    "#family = otu_table.loc[microbe_md.index]"
   ]
  },
  {
   "cell_type": "markdown",
   "id": "b1135db7",
   "metadata": {},
   "source": [
    "Metabolomics sample metadata"
   ]
  },
  {
   "cell_type": "code",
   "execution_count": 9,
   "id": "0e261111",
   "metadata": {},
   "outputs": [],
   "source": [
    "metabolites = biom.load_table('../data/hcc-data/metabolites.biom').to_dataframe().T\n",
    "metabolite_md = pd.read_table('../data/hcc-data/metabolite_feature_metadata.txt', index_col=0)\n",
    "metabolites = metabolites[metabolite_md.index]\n",
    "\n",
    "metadata = pd.read_table('../data/hcc-data/cleaned_qiime_metadata.txt', index_col=0)\n",
    "host_md = pd.read_table('../data/sample_information_from_prep_2458.tsv', index_col=0)\n",
    "metadata = pd.merge(metadata, host_md[['host_subject_id']].reset_index(), \n",
    "                    left_index=True, right_on='host_subject_id')\n",
    "\n",
    "del microbe_md['obese']\n",
    "del microbe_md['HCC']\n",
    "\n",
    "metadata = pd.merge(metadata, microbe_md.reset_index(), left_on='sample_id', right_on='index')\n",
    "metadata = metadata.set_index('host_subject_id')\n",
    "metadata, metabolites = metadata.align(metabolites, join='inner', axis=0)\n",
    "#metabolites = metabolites.loc[:, metabolite_fmd['sampleid'].values]\n",
    "\n",
    "# re-align microbial data\n",
    "otu_table = otu_table.loc[metadata['sample_id'].values]\n",
    "otu_table.index = metadata.index"
   ]
  },
  {
   "cell_type": "markdown",
   "id": "d6514dfd",
   "metadata": {},
   "source": [
    "Summaries"
   ]
  },
  {
   "cell_type": "code",
   "execution_count": 10,
   "id": "9651f701",
   "metadata": {},
   "outputs": [
    {
     "data": {
      "text/html": [
       "<div>\n",
       "<style scoped>\n",
       "    .dataframe tbody tr th:only-of-type {\n",
       "        vertical-align: middle;\n",
       "    }\n",
       "\n",
       "    .dataframe tbody tr th {\n",
       "        vertical-align: top;\n",
       "    }\n",
       "\n",
       "    .dataframe thead th {\n",
       "        text-align: right;\n",
       "    }\n",
       "</style>\n",
       "<table border=\"1\" class=\"dataframe\">\n",
       "  <thead>\n",
       "    <tr style=\"text-align: right;\">\n",
       "      <th></th>\n",
       "      <th>V1</th>\n",
       "      <th>V2</th>\n",
       "    </tr>\n",
       "  </thead>\n",
       "  <tbody>\n",
       "    <tr>\n",
       "      <th>clade11</th>\n",
       "      <td>-3.076267</td>\n",
       "      <td>0.411247</td>\n",
       "    </tr>\n",
       "    <tr>\n",
       "      <th>clade78</th>\n",
       "      <td>-1.869112</td>\n",
       "      <td>0.000000</td>\n",
       "    </tr>\n",
       "    <tr>\n",
       "      <th>clade56</th>\n",
       "      <td>-1.640055</td>\n",
       "      <td>0.113239</td>\n",
       "    </tr>\n",
       "    <tr>\n",
       "      <th>clade822</th>\n",
       "      <td>-1.158112</td>\n",
       "      <td>-0.738956</td>\n",
       "    </tr>\n",
       "    <tr>\n",
       "      <th>clade174</th>\n",
       "      <td>-0.980877</td>\n",
       "      <td>0.000000</td>\n",
       "    </tr>\n",
       "  </tbody>\n",
       "</table>\n",
       "</div>"
      ],
      "text/plain": [
       "                V1        V2\n",
       "clade11  -3.076267  0.411247\n",
       "clade78  -1.869112  0.000000\n",
       "clade56  -1.640055  0.113239\n",
       "clade822 -1.158112 -0.738956\n",
       "clade174 -0.980877  0.000000"
      ]
     },
     "execution_count": 10,
     "metadata": {},
     "output_type": "execute_result"
    }
   ],
   "source": [
    "microbeV2.sort_values('V1').head()"
   ]
  },
  {
   "cell_type": "code",
   "execution_count": 29,
   "id": "2711479d",
   "metadata": {},
   "outputs": [
    {
     "data": {
      "text/html": [
       "<div>\n",
       "<style scoped>\n",
       "    .dataframe tbody tr th:only-of-type {\n",
       "        vertical-align: middle;\n",
       "    }\n",
       "\n",
       "    .dataframe tbody tr th {\n",
       "        vertical-align: top;\n",
       "    }\n",
       "\n",
       "    .dataframe thead th {\n",
       "        text-align: right;\n",
       "    }\n",
       "</style>\n",
       "<table border=\"1\" class=\"dataframe\">\n",
       "  <thead>\n",
       "    <tr style=\"text-align: right;\">\n",
       "      <th></th>\n",
       "      <th>V1</th>\n",
       "      <th>V2</th>\n",
       "    </tr>\n",
       "  </thead>\n",
       "  <tbody>\n",
       "    <tr>\n",
       "      <th>y1386</th>\n",
       "      <td>-4.517932</td>\n",
       "      <td>-2.009006</td>\n",
       "    </tr>\n",
       "    <tr>\n",
       "      <th>y863</th>\n",
       "      <td>-4.434091</td>\n",
       "      <td>-0.941935</td>\n",
       "    </tr>\n",
       "    <tr>\n",
       "      <th>y4719</th>\n",
       "      <td>-4.223902</td>\n",
       "      <td>-0.817165</td>\n",
       "    </tr>\n",
       "    <tr>\n",
       "      <th>y3205</th>\n",
       "      <td>-4.117993</td>\n",
       "      <td>-0.469456</td>\n",
       "    </tr>\n",
       "    <tr>\n",
       "      <th>y1439</th>\n",
       "      <td>-3.953880</td>\n",
       "      <td>0.104277</td>\n",
       "    </tr>\n",
       "    <tr>\n",
       "      <th>y877</th>\n",
       "      <td>-3.941337</td>\n",
       "      <td>0.000000</td>\n",
       "    </tr>\n",
       "    <tr>\n",
       "      <th>y2113</th>\n",
       "      <td>-3.937212</td>\n",
       "      <td>-1.595995</td>\n",
       "    </tr>\n",
       "    <tr>\n",
       "      <th>y6946</th>\n",
       "      <td>-3.798876</td>\n",
       "      <td>0.000000</td>\n",
       "    </tr>\n",
       "    <tr>\n",
       "      <th>y6027</th>\n",
       "      <td>-3.779600</td>\n",
       "      <td>0.683764</td>\n",
       "    </tr>\n",
       "    <tr>\n",
       "      <th>y2376</th>\n",
       "      <td>-3.768744</td>\n",
       "      <td>-0.349802</td>\n",
       "    </tr>\n",
       "  </tbody>\n",
       "</table>\n",
       "</div>"
      ],
      "text/plain": [
       "             V1        V2\n",
       "y1386 -4.517932 -2.009006\n",
       "y863  -4.434091 -0.941935\n",
       "y4719 -4.223902 -0.817165\n",
       "y3205 -4.117993 -0.469456\n",
       "y1439 -3.953880  0.104277\n",
       "y877  -3.941337  0.000000\n",
       "y2113 -3.937212 -1.595995\n",
       "y6946 -3.798876  0.000000\n",
       "y6027 -3.779600  0.683764\n",
       "y2376 -3.768744 -0.349802"
      ]
     },
     "execution_count": 29,
     "metadata": {},
     "output_type": "execute_result"
    }
   ],
   "source": []
  },
  {
   "cell_type": "code",
   "execution_count": 27,
   "id": "0f4c14ed",
   "metadata": {},
   "outputs": [],
   "source": [
    "def get_tips(tree, clade_name):\n",
    "    \n",
    "    num = [n.name for n in micro_tree.find(clade_name).children[NUMERATOR].tips()]\n",
    "    denom = [n.name for n in micro_tree.find(clade_name).children[DENOMINATOR].tips()]\n",
    "    \n",
    "    if tree.find(clade_name).children[NUMERATOR].is_tip():\n",
    "        num = tree.find(clade_name).children[NUMERATOR].name\n",
    "    if tree.find(clade_name).children[DENOMINATOR].is_tip():\n",
    "        denom = tree.find(clade_name).children[DENOMINATOR].name\n",
    "    \n",
    "    return num, denom"
   ]
  },
  {
   "cell_type": "code",
   "execution_count": 45,
   "id": "3ac2ef06",
   "metadata": {},
   "outputs": [],
   "source": [
    "# metabolite balance\n",
    "metabolite_res = {}\n",
    "bname = 'V1'\n",
    "for node_name in metaboliteV2.sort_values('V1').index:\n",
    "    try:\n",
    "        num, denom = get_tips(metab_tree, node_name)\n",
    "        v = np.log(metabolites[num] + 1).mean(axis=1) - np.log(metabolites[denom] + 1).mean(axis=1)\n",
    "    except:\n",
    "        # skip over tippy balances with a single feature in the numerator / denominator\n",
    "        continue\n",
    "    metadata[f'metabolite{bname}'] = v\n",
    "    t, p = ttest_ind(metadata['metaboliteV1'].loc[metadata['HCC']],\n",
    "                     metadata['metaboliteV1'].loc[~metadata['HCC']])\n",
    "    a = roc_auc_score(metadata['HCC'].astype(np.int64), metadata['metaboliteV1'])\n",
    "    metabolite_res[node_name] = pd.Series({'tstat': t, 'pval': p, 'auc': a})\n",
    "metabolite_res = pd.DataFrame(metabolite_res).T"
   ]
  },
  {
   "cell_type": "code",
   "execution_count": 48,
   "id": "0a330c9c",
   "metadata": {},
   "outputs": [
    {
     "data": {
      "text/html": [
       "<div>\n",
       "<style scoped>\n",
       "    .dataframe tbody tr th:only-of-type {\n",
       "        vertical-align: middle;\n",
       "    }\n",
       "\n",
       "    .dataframe tbody tr th {\n",
       "        vertical-align: top;\n",
       "    }\n",
       "\n",
       "    .dataframe thead th {\n",
       "        text-align: right;\n",
       "    }\n",
       "</style>\n",
       "<table border=\"1\" class=\"dataframe\">\n",
       "  <thead>\n",
       "    <tr style=\"text-align: right;\">\n",
       "      <th></th>\n",
       "      <th>tstat</th>\n",
       "      <th>pval</th>\n",
       "      <th>auc</th>\n",
       "    </tr>\n",
       "  </thead>\n",
       "  <tbody>\n",
       "    <tr>\n",
       "      <th>y6230</th>\n",
       "      <td>-11.559409</td>\n",
       "      <td>6.520261e-27</td>\n",
       "      <td>0.215456</td>\n",
       "    </tr>\n",
       "    <tr>\n",
       "      <th>y2372</th>\n",
       "      <td>-10.488314</td>\n",
       "      <td>6.184045e-23</td>\n",
       "      <td>0.237243</td>\n",
       "    </tr>\n",
       "    <tr>\n",
       "      <th>y5914</th>\n",
       "      <td>-9.275259</td>\n",
       "      <td>1.065634e-18</td>\n",
       "      <td>0.244288</td>\n",
       "    </tr>\n",
       "    <tr>\n",
       "      <th>y6985</th>\n",
       "      <td>-9.033287</td>\n",
       "      <td>6.827392e-18</td>\n",
       "      <td>0.255748</td>\n",
       "    </tr>\n",
       "    <tr>\n",
       "      <th>y1285</th>\n",
       "      <td>-8.625576</td>\n",
       "      <td>1.452338e-16</td>\n",
       "      <td>0.267402</td>\n",
       "    </tr>\n",
       "    <tr>\n",
       "      <th>...</th>\n",
       "      <td>...</td>\n",
       "      <td>...</td>\n",
       "      <td>...</td>\n",
       "    </tr>\n",
       "    <tr>\n",
       "      <th>y4853</th>\n",
       "      <td>8.395095</td>\n",
       "      <td>7.845679e-16</td>\n",
       "      <td>0.747171</td>\n",
       "    </tr>\n",
       "    <tr>\n",
       "      <th>y881</th>\n",
       "      <td>10.059116</td>\n",
       "      <td>2.114105e-21</td>\n",
       "      <td>0.747798</td>\n",
       "    </tr>\n",
       "    <tr>\n",
       "      <th>y2120</th>\n",
       "      <td>9.835060</td>\n",
       "      <td>1.291337e-20</td>\n",
       "      <td>0.753806</td>\n",
       "    </tr>\n",
       "    <tr>\n",
       "      <th>y5236</th>\n",
       "      <td>10.179397</td>\n",
       "      <td>7.924410e-22</td>\n",
       "      <td>0.758945</td>\n",
       "    </tr>\n",
       "    <tr>\n",
       "      <th>y1594</th>\n",
       "      <td>9.964825</td>\n",
       "      <td>4.540842e-21</td>\n",
       "      <td>0.762154</td>\n",
       "    </tr>\n",
       "  </tbody>\n",
       "</table>\n",
       "<p>3030 rows × 3 columns</p>\n",
       "</div>"
      ],
      "text/plain": [
       "           tstat          pval       auc\n",
       "y6230 -11.559409  6.520261e-27  0.215456\n",
       "y2372 -10.488314  6.184045e-23  0.237243\n",
       "y5914  -9.275259  1.065634e-18  0.244288\n",
       "y6985  -9.033287  6.827392e-18  0.255748\n",
       "y1285  -8.625576  1.452338e-16  0.267402\n",
       "...          ...           ...       ...\n",
       "y4853   8.395095  7.845679e-16  0.747171\n",
       "y881   10.059116  2.114105e-21  0.747798\n",
       "y2120   9.835060  1.291337e-20  0.753806\n",
       "y5236  10.179397  7.924410e-22  0.758945\n",
       "y1594   9.964825  4.540842e-21  0.762154\n",
       "\n",
       "[3030 rows x 3 columns]"
      ]
     },
     "execution_count": 48,
     "metadata": {},
     "output_type": "execute_result"
    }
   ],
   "source": [
    "metabolite_res.sort_values('auc')"
   ]
  },
  {
   "cell_type": "code",
   "execution_count": 49,
   "id": "f574b49f",
   "metadata": {},
   "outputs": [],
   "source": [
    "# microbe balance\n",
    "microbe_res = {}\n",
    "bname = 'V1'\n",
    "for node_name in microbeV2.sort_values('V1').index:\n",
    "    try:\n",
    "        num, denom = get_tips(metab_tree, node_name)\n",
    "        v = np.log(otu_table[num] + 1).mean(axis=1) - np.log(otu_table[denom] + 1).mean(axis=1)\n",
    "    except:\n",
    "        # skip over tippy balances with a single feature in the numerator / denominator\n",
    "        continue\n",
    "    metadata[f'microbe{bname}'] = v\n",
    "    t, p = ttest_ind(metadata['microbeV1'].loc[metadata['HCC']],\n",
    "                     metadata['microbeV1'].loc[~metadata['HCC']])\n",
    "    a = roc_auc_score(metadata['HCC'].astype(np.int64), metadata['microbeV1'])\n",
    "    microbe_res[node_name] = pd.Series({'tstat': t, 'pval': p, 'auc': a})\n",
    "microbe_res = pd.DataFrame(microbe_res).T"
   ]
  },
  {
   "cell_type": "code",
   "execution_count": 51,
   "id": "87ff97c2",
   "metadata": {},
   "outputs": [
    {
     "data": {
      "text/html": [
       "<div>\n",
       "<style scoped>\n",
       "    .dataframe tbody tr th:only-of-type {\n",
       "        vertical-align: middle;\n",
       "    }\n",
       "\n",
       "    .dataframe tbody tr th {\n",
       "        vertical-align: top;\n",
       "    }\n",
       "\n",
       "    .dataframe thead th {\n",
       "        text-align: right;\n",
       "    }\n",
       "</style>\n",
       "<table border=\"1\" class=\"dataframe\">\n",
       "  <thead>\n",
       "    <tr style=\"text-align: right;\">\n",
       "      <th></th>\n",
       "      <th>tstat</th>\n",
       "      <th>pval</th>\n",
       "      <th>auc</th>\n",
       "    </tr>\n",
       "  </thead>\n",
       "  <tbody>\n",
       "    <tr>\n",
       "      <th>clade56</th>\n",
       "      <td>-7.316846</td>\n",
       "      <td>1.368951e-12</td>\n",
       "      <td>0.328468</td>\n",
       "    </tr>\n",
       "    <tr>\n",
       "      <th>clade78</th>\n",
       "      <td>-7.525269</td>\n",
       "      <td>3.424260e-13</td>\n",
       "      <td>0.328480</td>\n",
       "    </tr>\n",
       "    <tr>\n",
       "      <th>clade822</th>\n",
       "      <td>-5.283814</td>\n",
       "      <td>2.068973e-07</td>\n",
       "      <td>0.360665</td>\n",
       "    </tr>\n",
       "    <tr>\n",
       "      <th>clade11</th>\n",
       "      <td>-4.442418</td>\n",
       "      <td>1.148627e-05</td>\n",
       "      <td>0.395686</td>\n",
       "    </tr>\n",
       "    <tr>\n",
       "      <th>clade174</th>\n",
       "      <td>-3.695272</td>\n",
       "      <td>2.497609e-04</td>\n",
       "      <td>0.450153</td>\n",
       "    </tr>\n",
       "    <tr>\n",
       "      <th>clade3</th>\n",
       "      <td>-3.463688</td>\n",
       "      <td>5.895211e-04</td>\n",
       "      <td>0.451637</td>\n",
       "    </tr>\n",
       "    <tr>\n",
       "      <th>clade42</th>\n",
       "      <td>-1.643191</td>\n",
       "      <td>1.011177e-01</td>\n",
       "      <td>0.483292</td>\n",
       "    </tr>\n",
       "    <tr>\n",
       "      <th>clade28</th>\n",
       "      <td>0.868267</td>\n",
       "      <td>3.857609e-01</td>\n",
       "      <td>0.506406</td>\n",
       "    </tr>\n",
       "    <tr>\n",
       "      <th>clade29</th>\n",
       "      <td>1.341047</td>\n",
       "      <td>1.806551e-01</td>\n",
       "      <td>0.533838</td>\n",
       "    </tr>\n",
       "    <tr>\n",
       "      <th>clade683</th>\n",
       "      <td>1.892728</td>\n",
       "      <td>5.910505e-02</td>\n",
       "      <td>0.569016</td>\n",
       "    </tr>\n",
       "    <tr>\n",
       "      <th>clade5</th>\n",
       "      <td>3.434027</td>\n",
       "      <td>6.558917e-04</td>\n",
       "      <td>0.574541</td>\n",
       "    </tr>\n",
       "    <tr>\n",
       "      <th>clade429</th>\n",
       "      <td>4.901348</td>\n",
       "      <td>1.378280e-06</td>\n",
       "      <td>0.596002</td>\n",
       "    </tr>\n",
       "    <tr>\n",
       "      <th>clade19</th>\n",
       "      <td>6.166209</td>\n",
       "      <td>1.690572e-09</td>\n",
       "      <td>0.671460</td>\n",
       "    </tr>\n",
       "  </tbody>\n",
       "</table>\n",
       "</div>"
      ],
      "text/plain": [
       "             tstat          pval       auc\n",
       "clade56  -7.316846  1.368951e-12  0.328468\n",
       "clade78  -7.525269  3.424260e-13  0.328480\n",
       "clade822 -5.283814  2.068973e-07  0.360665\n",
       "clade11  -4.442418  1.148627e-05  0.395686\n",
       "clade174 -3.695272  2.497609e-04  0.450153\n",
       "clade3   -3.463688  5.895211e-04  0.451637\n",
       "clade42  -1.643191  1.011177e-01  0.483292\n",
       "clade28   0.868267  3.857609e-01  0.506406\n",
       "clade29   1.341047  1.806551e-01  0.533838\n",
       "clade683  1.892728  5.910505e-02  0.569016\n",
       "clade5    3.434027  6.558917e-04  0.574541\n",
       "clade429  4.901348  1.378280e-06  0.596002\n",
       "clade19   6.166209  1.690572e-09  0.671460"
      ]
     },
     "execution_count": 51,
     "metadata": {},
     "output_type": "execute_result"
    }
   ],
   "source": [
    "microbe_res.sort_values('auc')"
   ]
  },
  {
   "cell_type": "code",
   "execution_count": 93,
   "id": "aa810bde",
   "metadata": {},
   "outputs": [],
   "source": [
    "# metabolite balance\n",
    "bname = 'V1'\n",
    "node_name = 'y6230'\n",
    "#thres = 0.005\n",
    "thres = 0\n",
    "num, denom = get_tips(metab_tree, node_name)\n",
    "metab_num, metab_denom = num, denom\n",
    "v = np.log(metabolites[num] + 1).mean(axis=1) - np.log(metabolites[denom] + 1).mean(axis=1)\n",
    "metadata[f'metabolite{bname}'] = v\n",
    "\n",
    "# microbe balance\n",
    "#thres = 0.005\n",
    "thres = 0\n",
    "node_name = 'clade56'\n",
    "num, denom = get_tips(micro_tree, node_name)\n",
    "micro_num, micro_denom = num, denom\n",
    "v = np.log(otu_table[num] + 1).mean(axis=1) - np.log(otu_table[denom] + 1).mean(axis=1)\n",
    "metadata[f'microbe{bname}'] = v"
   ]
  },
  {
   "cell_type": "markdown",
   "id": "aae4e36f",
   "metadata": {},
   "source": [
    "Microbe / Metabolite balance"
   ]
  },
  {
   "cell_type": "code",
   "execution_count": 136,
   "id": "9ae2f037",
   "metadata": {},
   "outputs": [
    {
     "data": {
      "text/plain": [
       "Text(0.5, 0, 'obesity')"
      ]
     },
     "execution_count": 136,
     "metadata": {},
     "output_type": "execute_result"
    },
    {
     "data": {
      "image/png": "[encoded data removed]",
      "text/plain": [
       "<Figure size 360x288 with 5 Axes>"
      ]
     },
     "metadata": {
      "needs_background": "light"
     },
     "output_type": "display_data"
    }
   ],
   "source": [
    "fig, ax = plt.subplots(1, 5, sharey=True, figsize=(5, 4))\n",
    "\n",
    "sns.boxplot(data=metadata, y=f'microbe{bname}', x='no IgA', notch=True, ax=ax[0], bootstrap=1000)\n",
    "sns.boxplot(data=metadata, y=f'microbe{bname}', x='no B cell', notch=True, ax=ax[1], bootstrap=1000)\n",
    "sns.boxplot(data=metadata, y=f'microbe{bname}', x='no T cell', notch=True, ax=ax[2], bootstrap=1000)\n",
    "sns.boxplot(data=metadata, y=f'microbe{bname}', x='obese', notch=True, ax=ax[3], bootstrap=1000)\n",
    "sns.boxplot(data=metadata, y=f'microbe{bname}', x='HCC', notch=True, ax=ax[4], bootstrap=1000)\n",
    "\n",
    "ax[0].set_ylabel(f'Microbiome {bname} clade56 : Immune Balance')\n",
    "for i in range(1, 5):\n",
    "    ax[i].set_ylabel('')\n",
    "ax[1].set_xlabel('obesity')"
   ]
  },
  {
   "cell_type": "code",
   "execution_count": 137,
   "id": "754dd14a",
   "metadata": {},
   "outputs": [
    {
     "data": {
      "text/plain": [
       "Text(0.5, 0, 'obesity')"
      ]
     },
     "execution_count": 137,
     "metadata": {},
     "output_type": "execute_result"
    },
    {
     "data": {
      "image/png": "[encoded data removed]",
      "text/plain": [
       "<Figure size 360x288 with 5 Axes>"
      ]
     },
     "metadata": {
      "needs_background": "light"
     },
     "output_type": "display_data"
    }
   ],
   "source": [
    "fig, ax = plt.subplots(1, 5, sharey=True, figsize=(5, 4))\n",
    "\n",
    "sns.boxplot(data=metadata, y=f'metabolite{bname}', x='no IgA', notch=True, ax=ax[0], bootstrap=1000)\n",
    "sns.boxplot(data=metadata, y=f'metabolite{bname}', x='no B cell', notch=True, ax=ax[1], bootstrap=1000)\n",
    "sns.boxplot(data=metadata, y=f'metabolite{bname}', x='no T cell', notch=True, ax=ax[2], bootstrap=1000)\n",
    "sns.boxplot(data=metadata, y=f'metabolite{bname}', x='obese', notch=True, ax=ax[3], bootstrap=1000)\n",
    "sns.boxplot(data=metadata, y=f'metabolite{bname}', x='HCC', notch=True, ax=ax[4], bootstrap=1000)\n",
    "\n",
    "ax[0].set_ylabel(f'Metabolite {bname} y6230 : Immune Balance')\n",
    "for i in range(1, 5):\n",
    "    ax[i].set_ylabel('')\n",
    "ax[1].set_xlabel('obesity')"
   ]
  },
  {
   "cell_type": "code",
   "execution_count": 96,
   "id": "9dac761f",
   "metadata": {},
   "outputs": [
    {
     "data": {
      "text/plain": [
       "Ttest_indResult(statistic=-7.316846408427564, pvalue=1.3689514075099432e-12)"
      ]
     },
     "execution_count": 96,
     "metadata": {},
     "output_type": "execute_result"
    }
   ],
   "source": [
    "from scipy.stats import ttest_ind\n",
    "ttest_ind(metadata['microbeV1'].loc[metadata['HCC']],\n",
    "          metadata['microbeV1'].loc[~metadata['HCC']])"
   ]
  },
  {
   "cell_type": "code",
   "execution_count": 97,
   "id": "8a1abe74",
   "metadata": {},
   "outputs": [
    {
     "data": {
      "text/plain": [
       "Ttest_indResult(statistic=-11.559409011752065, pvalue=6.520261499827845e-27)"
      ]
     },
     "execution_count": 97,
     "metadata": {},
     "output_type": "execute_result"
    }
   ],
   "source": [
    "ttest_ind(metadata['metaboliteV1'].loc[metadata['HCC']],\n",
    "          metadata['metaboliteV1'].loc[~metadata['HCC']])"
   ]
  },
  {
   "cell_type": "code",
   "execution_count": 127,
   "id": "ad054eeb",
   "metadata": {},
   "outputs": [],
   "source": [
    "for node_name in microbe_res.index:\n",
    "    if microbe_res.loc[node_name, 'pval'] > 1e-6: continue\n",
    "    num, denom = get_tips(micro_tree, node_name)\n",
    "    num = set(num)\n",
    "    denom = set(denom)\n",
    "    def clade_set(x):\n",
    "        if x in set(num):\n",
    "            return 'num'\n",
    "        if x in set(denom):\n",
    "            return 'denom'\n",
    "    taxonomy[node_name] = list(map(clade_set, taxonomy.index))"
   ]
  },
  {
   "cell_type": "code",
   "execution_count": 128,
   "id": "691002ff",
   "metadata": {},
   "outputs": [],
   "source": [
    "taxonomy = taxonomy.rename(columns={1: 'Taxon'})\n",
    "taxonomy.to_csv('../results/microbe_ilr_metadata.csv')\n",
    "microbe_res.to_csv('../results/microbe_ilr_summary.csv')"
   ]
  },
  {
   "cell_type": "code",
   "execution_count": null,
   "id": "54ba7e71",
   "metadata": {},
   "outputs": [],
   "source": [
    "for node_name in metabolite_res.index:\n",
    "    if metabolite_res.loc[node_name, 'pval'] > 1e-6: continue\n",
    "    num, denom = get_tips(micro_tree, node_name)\n",
    "    num = set(num)\n",
    "    denom = set(denom)\n",
    "    def clade_set(x):\n",
    "        if x in set(num):\n",
    "            return 'num'\n",
    "        if x in set(denom):\n",
    "            return 'denom'\n",
    "    metabolite_fmd[node_name] = list(map(clade_set, metabolite_fmd.index))"
   ]
  },
  {
   "cell_type": "code",
   "execution_count": 135,
   "id": "4cf7124f",
   "metadata": {},
   "outputs": [],
   "source": [
    "metabolite_fmd.to_csv('../results/metabolite_ilr_metadata.csv')\n",
    "metabolite_res.to_csv('../results/metabolite_ilr_summary.csv')"
   ]
  },
  {
   "cell_type": "code",
   "execution_count": null,
   "id": "3bdb9efd",
   "metadata": {},
   "outputs": [],
   "source": [
    "microbe_fmd = pd.merge(microbeV2, microbe_fmd, \n",
    "                       left_index=True, right_index=True).sort_values('V1')"
   ]
  },
  {
   "cell_type": "code",
   "execution_count": null,
   "id": "7d590399",
   "metadata": {},
   "outputs": [],
   "source": [
    "microbeV2.sum(axis=0)"
   ]
  },
  {
   "cell_type": "code",
   "execution_count": null,
   "id": "d42b2223",
   "metadata": {},
   "outputs": [],
   "source": [
    "metabolite_fmd = pd.merge(metaboliteV2,\n",
    "                          metabolite_fmd.set_index('sampleid'), \n",
    "                          left_index=True, right_index=True)"
   ]
  },
  {
   "cell_type": "code",
   "execution_count": null,
   "id": "d21c4953",
   "metadata": {},
   "outputs": [],
   "source": [
    "metabolite_fmd"
   ]
  },
  {
   "cell_type": "code",
   "execution_count": null,
   "id": "48847d48",
   "metadata": {},
   "outputs": [],
   "source": [
    "(metabolite_fmd\n",
    " .sort_values('V1')\n",
    " #.dropna(subset='Compound_Name')\n",
    " .tail(50)[['V1', 'Compound_Name']])"
   ]
  },
  {
   "cell_type": "code",
   "execution_count": null,
   "id": "8d0f631c",
   "metadata": {},
   "outputs": [],
   "source": []
  },
  {
   "cell_type": "code",
   "execution_count": null,
   "id": "0ecd4c11",
   "metadata": {},
   "outputs": [],
   "source": [
    "# flip sign because of U\n",
    "microbe_fmd = pd.merge(microbe_fmd, microbe_ranks, left_index=True, right_index=True)"
   ]
  },
  {
   "cell_type": "code",
   "execution_count": null,
   "id": "52df0968",
   "metadata": {},
   "outputs": [],
   "source": [
    "microbe_fmd.sort_values('V3')"
   ]
  },
  {
   "cell_type": "raw",
   "id": "a81d7402",
   "metadata": {},
   "source": [
    "microbe_fmd.to_csv('../results/microbiome_ranks.csv')"
   ]
  },
  {
   "cell_type": "code",
   "execution_count": null,
   "id": "376d93c0",
   "metadata": {},
   "outputs": [],
   "source": [
    "# flip sign because of U\n",
    "metabolite_ranks.sort_values()"
   ]
  },
  {
   "cell_type": "code",
   "execution_count": null,
   "id": "348b52c0",
   "metadata": {},
   "outputs": [],
   "source": [
    "metabolite_fmd[['Compound_Name', 'V3']].sort_values('V3').dropna().head(10)"
   ]
  },
  {
   "cell_type": "code",
   "execution_count": null,
   "id": "cc16f4ea",
   "metadata": {},
   "outputs": [],
   "source": [
    "metabolite_fmd[['Compound_Name', 'V3']].sort_values('V3').dropna().tail(10)"
   ]
  },
  {
   "cell_type": "code",
   "execution_count": null,
   "id": "084e3b43",
   "metadata": {},
   "outputs": [],
   "source": [
    "metabolite_fmd.to_csv('../results/metabolite_ranks.csv')"
   ]
  },
  {
   "cell_type": "markdown",
   "id": "d656d92f",
   "metadata": {},
   "source": [
    "## Cross-reference against MMvec"
   ]
  },
  {
   "cell_type": "code",
   "execution_count": null,
   "id": "d72e1a5c",
   "metadata": {},
   "outputs": [],
   "source": [
    "from skbio import OrdinationResults\n",
    "res = OrdinationResults.read('../results/mmvec/omics-biplot.results')"
   ]
  },
  {
   "cell_type": "code",
   "execution_count": null,
   "id": "d48decdb",
   "metadata": {},
   "outputs": [],
   "source": [
    "res.samples.shape, metabolite_fmd.shape"
   ]
  },
  {
   "cell_type": "code",
   "execution_count": null,
   "id": "2a383baf",
   "metadata": {},
   "outputs": [],
   "source": [
    "res.samples.loc[metabolite_fmd.index]"
   ]
  },
  {
   "cell_type": "code",
   "execution_count": null,
   "id": "7d2e725a",
   "metadata": {},
   "outputs": [],
   "source": [
    "res.features"
   ]
  },
  {
   "cell_type": "code",
   "execution_count": null,
   "id": "9d09184a",
   "metadata": {},
   "outputs": [],
   "source": []
  }
 ],
 "metadata": {
  "kernelspec": {
   "display_name": "Python 3 (ipykernel)",
   "language": "python",
   "name": "python3"
  },
  "language_info": {
   "codemirror_mode": {
    "name": "ipython",
    "version": 3
   },
   "file_extension": ".py",
   "mimetype": "text/x-python",
   "name": "python",
   "nbconvert_exporter": "python",
   "pygments_lexer": "ipython3",
   "version": "3.10.4"
  }
 },
 "nbformat": 4,
 "nbformat_minor": 5
}
